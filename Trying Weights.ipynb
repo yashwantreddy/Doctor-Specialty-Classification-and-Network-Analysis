{
 "cells": [
  {
   "cell_type": "code",
   "execution_count": 1,
   "metadata": {},
   "outputs": [],
   "source": [
    "import pandas as pd\n",
    "import networkx as nx\n",
    "import numpy as np\n",
    "import seaborn as sns\n",
    "import matplotlib.pyplot as plt\n",
    "%matplotlib inline"
   ]
  },
  {
   "cell_type": "code",
   "execution_count": 2,
   "metadata": {},
   "outputs": [],
   "source": [
    "proc = pd.read_csv('data/procedures.csv')\n",
    "phy = pd.read_csv('data/physicians.csv')"
   ]
  },
  {
   "cell_type": "code",
   "execution_count": 3,
   "metadata": {},
   "outputs": [],
   "source": [
    "phy['Cardiologist'] = pd.get_dummies(phy.specialty)['Cardiology']"
   ]
  },
  {
   "cell_type": "code",
   "execution_count": 4,
   "metadata": {},
   "outputs": [],
   "source": [
    "phy.columns = ['physician_id','specialty','Cardiologist']"
   ]
  },
  {
   "cell_type": "code",
   "execution_count": 5,
   "metadata": {},
   "outputs": [],
   "source": [
    "merged = pd.merge(proc, phy, left_on='physician_id',right_on='physician_id',how='outer')\n",
    "indices=[]\n",
    "for i,proc in enumerate(merged.procedure):\n",
    "    w=[]\n",
    "    w.append(proc.replace('_', ' '))\n",
    "    if 'typically' in w[0].split():\n",
    "        indices.append(i)"
   ]
  },
  {
   "cell_type": "code",
   "execution_count": 6,
   "metadata": {},
   "outputs": [],
   "source": [
    "merged_not_typically = merged.drop(merged.index[list(indices)])\n",
    "merged_not_typically = merged_not_typically.reset_index()\n",
    "merged_not_typically.drop('index',axis=1,inplace=True)"
   ]
  },
  {
   "cell_type": "code",
   "execution_count": 7,
   "metadata": {},
   "outputs": [],
   "source": [
    "merged_not_typically_no_un = merged_not_typically[merged_not_typically.specialty!='Unknown']\n"
   ]
  },
  {
   "cell_type": "code",
   "execution_count": 8,
   "metadata": {},
   "outputs": [],
   "source": [
    "d={}\n",
    "for i,proc in enumerate(merged_not_typically_no_un.procedure_code):\n",
    "    if proc not in d.keys():\n",
    "        d[proc] = [merged_not_typically_no_un.specialty.iloc[i]]\n",
    "    if proc in d.keys():\n",
    "        d[proc].append(merged_not_typically_no_un.specialty.iloc[i])\n",
    "        "
   ]
  },
  {
   "cell_type": "code",
   "execution_count": 9,
   "metadata": {},
   "outputs": [],
   "source": [
    "merged_not_typically_only_un = merged_not_typically[merged_not_typically.specialty=='Unknown']"
   ]
  },
  {
   "cell_type": "code",
   "execution_count": 10,
   "metadata": {},
   "outputs": [],
   "source": [
    "merged_not_typically_only_un.reset_index(drop=True, inplace=True)"
   ]
  },
  {
   "cell_type": "code",
   "execution_count": 11,
   "metadata": {},
   "outputs": [
    {
     "data": {
      "text/html": [
       "<div>\n",
       "<style>\n",
       "    .dataframe thead tr:only-child th {\n",
       "        text-align: right;\n",
       "    }\n",
       "\n",
       "    .dataframe thead th {\n",
       "        text-align: left;\n",
       "    }\n",
       "\n",
       "    .dataframe tbody tr th {\n",
       "        vertical-align: top;\n",
       "    }\n",
       "</style>\n",
       "<table border=\"1\" class=\"dataframe\">\n",
       "  <thead>\n",
       "    <tr style=\"text-align: right;\">\n",
       "      <th></th>\n",
       "      <th>physician_id</th>\n",
       "      <th>procedure_code</th>\n",
       "      <th>procedure</th>\n",
       "      <th>number_of_patients</th>\n",
       "      <th>specialty</th>\n",
       "      <th>Cardiologist</th>\n",
       "    </tr>\n",
       "  </thead>\n",
       "  <tbody>\n",
       "    <tr>\n",
       "      <th>0</th>\n",
       "      <td>1</td>\n",
       "      <td>76942</td>\n",
       "      <td>ultrasonic_guidance_imaging_supervision_and_in...</td>\n",
       "      <td>14</td>\n",
       "      <td>Unknown</td>\n",
       "      <td>0</td>\n",
       "    </tr>\n",
       "    <tr>\n",
       "      <th>1</th>\n",
       "      <td>2</td>\n",
       "      <td>99238</td>\n",
       "      <td>hospital_discharge_day_management,_30_minutes_...</td>\n",
       "      <td>16</td>\n",
       "      <td>Family Practice</td>\n",
       "      <td>0</td>\n",
       "    </tr>\n",
       "    <tr>\n",
       "      <th>2</th>\n",
       "      <td>3</td>\n",
       "      <td>99283</td>\n",
       "      <td>emergency_department_visit,_moderately_severe_...</td>\n",
       "      <td>68</td>\n",
       "      <td>Emergency Medicine</td>\n",
       "      <td>0</td>\n",
       "    </tr>\n",
       "    <tr>\n",
       "      <th>3</th>\n",
       "      <td>3</td>\n",
       "      <td>99284</td>\n",
       "      <td>emergency_department_visit,_problem_of_high_se...</td>\n",
       "      <td>87</td>\n",
       "      <td>Emergency Medicine</td>\n",
       "      <td>0</td>\n",
       "    </tr>\n",
       "    <tr>\n",
       "      <th>4</th>\n",
       "      <td>3</td>\n",
       "      <td>99285</td>\n",
       "      <td>emergency_department_visit,_problem_with_signi...</td>\n",
       "      <td>267</td>\n",
       "      <td>Emergency Medicine</td>\n",
       "      <td>0</td>\n",
       "    </tr>\n",
       "    <tr>\n",
       "      <th>5</th>\n",
       "      <td>3</td>\n",
       "      <td>99291</td>\n",
       "      <td>critical_care_delivery_critically_ill_or_injur...</td>\n",
       "      <td>15</td>\n",
       "      <td>Emergency Medicine</td>\n",
       "      <td>0</td>\n",
       "    </tr>\n",
       "    <tr>\n",
       "      <th>6</th>\n",
       "      <td>5</td>\n",
       "      <td>36247</td>\n",
       "      <td>insertion_of_catheter_into_abdominal_pelvic_or...</td>\n",
       "      <td>15</td>\n",
       "      <td>Cardiology</td>\n",
       "      <td>1</td>\n",
       "    </tr>\n",
       "    <tr>\n",
       "      <th>7</th>\n",
       "      <td>5</td>\n",
       "      <td>75625</td>\n",
       "      <td>radiological_supervision_and_interpretation_x-...</td>\n",
       "      <td>20</td>\n",
       "      <td>Cardiology</td>\n",
       "      <td>1</td>\n",
       "    </tr>\n",
       "    <tr>\n",
       "      <th>8</th>\n",
       "      <td>5</td>\n",
       "      <td>75716</td>\n",
       "      <td>radiological_supervision_and_interpretation_of...</td>\n",
       "      <td>17</td>\n",
       "      <td>Cardiology</td>\n",
       "      <td>1</td>\n",
       "    </tr>\n",
       "    <tr>\n",
       "      <th>9</th>\n",
       "      <td>5</td>\n",
       "      <td>78492</td>\n",
       "      <td>nuclear_medicine_study_heart_muscle_at_rest_an...</td>\n",
       "      <td>45</td>\n",
       "      <td>Cardiology</td>\n",
       "      <td>1</td>\n",
       "    </tr>\n",
       "  </tbody>\n",
       "</table>\n",
       "</div>"
      ],
      "text/plain": [
       "   physician_id procedure_code  \\\n",
       "0             1          76942   \n",
       "1             2          99238   \n",
       "2             3          99283   \n",
       "3             3          99284   \n",
       "4             3          99285   \n",
       "5             3          99291   \n",
       "6             5          36247   \n",
       "7             5          75625   \n",
       "8             5          75716   \n",
       "9             5          78492   \n",
       "\n",
       "                                           procedure  number_of_patients  \\\n",
       "0  ultrasonic_guidance_imaging_supervision_and_in...                  14   \n",
       "1  hospital_discharge_day_management,_30_minutes_...                  16   \n",
       "2  emergency_department_visit,_moderately_severe_...                  68   \n",
       "3  emergency_department_visit,_problem_of_high_se...                  87   \n",
       "4  emergency_department_visit,_problem_with_signi...                 267   \n",
       "5  critical_care_delivery_critically_ill_or_injur...                  15   \n",
       "6  insertion_of_catheter_into_abdominal_pelvic_or...                  15   \n",
       "7  radiological_supervision_and_interpretation_x-...                  20   \n",
       "8  radiological_supervision_and_interpretation_of...                  17   \n",
       "9  nuclear_medicine_study_heart_muscle_at_rest_an...                  45   \n",
       "\n",
       "            specialty  Cardiologist  \n",
       "0             Unknown             0  \n",
       "1     Family Practice             0  \n",
       "2  Emergency Medicine             0  \n",
       "3  Emergency Medicine             0  \n",
       "4  Emergency Medicine             0  \n",
       "5  Emergency Medicine             0  \n",
       "6          Cardiology             1  \n",
       "7          Cardiology             1  \n",
       "8          Cardiology             1  \n",
       "9          Cardiology             1  "
      ]
     },
     "execution_count": 11,
     "metadata": {},
     "output_type": "execute_result"
    }
   ],
   "source": [
    "merged_not_typically.head(10)"
   ]
  },
  {
   "cell_type": "code",
   "execution_count": 12,
   "metadata": {},
   "outputs": [
    {
     "data": {
      "text/plain": [
       "416588"
      ]
     },
     "execution_count": 12,
     "metadata": {},
     "output_type": "execute_result"
    }
   ],
   "source": [
    "len(merged_not_typically)"
   ]
  },
  {
   "cell_type": "code",
   "execution_count": 15,
   "metadata": {},
   "outputs": [
    {
     "data": {
      "text/plain": [
       "5"
      ]
     },
     "execution_count": 15,
     "metadata": {},
     "output_type": "execute_result"
    }
   ],
   "source": [
    "merged_not_typically.physician_id.iloc[9]"
   ]
  },
  {
   "cell_type": "code",
   "execution_count": 13,
   "metadata": {},
   "outputs": [],
   "source": [
    "g = nx.DiGraph()"
   ]
  },
  {
   "cell_type": "code",
   "execution_count": 16,
   "metadata": {},
   "outputs": [],
   "source": [
    "for i in range(len(merged_not_typically)):\n",
    "    g.add_edge(merged_not_typically.physician_id.iloc[i],merged_not_typically.procedure_code.iloc[i],weight=merged_not_typically.number_of_patients.iloc[i])"
   ]
  },
  {
   "cell_type": "code",
   "execution_count": 18,
   "metadata": {},
   "outputs": [
    {
     "data": {
      "text/plain": [
       "398020"
      ]
     },
     "execution_count": 18,
     "metadata": {},
     "output_type": "execute_result"
    }
   ],
   "source": [
    "g.number_of_edges()"
   ]
  },
  {
   "cell_type": "code",
   "execution_count": 20,
   "metadata": {},
   "outputs": [
    {
     "data": {
      "text/plain": [
       "36175"
      ]
     },
     "execution_count": 20,
     "metadata": {},
     "output_type": "execute_result"
    }
   ],
   "source": [
    "g.number_of_nodes()"
   ]
  },
  {
   "cell_type": "code",
   "execution_count": 23,
   "metadata": {},
   "outputs": [
    {
     "data": {
      "text/plain": [
       "398020"
      ]
     },
     "execution_count": 23,
     "metadata": {},
     "output_type": "execute_result"
    }
   ],
   "source": [
    "g.size()"
   ]
  },
  {
   "cell_type": "code",
   "execution_count": 25,
   "metadata": {},
   "outputs": [
    {
     "data": {
      "text/plain": [
       "{'weight': 14}"
      ]
     },
     "execution_count": 25,
     "metadata": {},
     "output_type": "execute_result"
    }
   ],
   "source": [
    "g[1]['76942']"
   ]
  },
  {
   "cell_type": "code",
   "execution_count": 35,
   "metadata": {},
   "outputs": [],
   "source": [
    "nx.write_gexf(g,'weighted.gexf')"
   ]
  },
  {
   "cell_type": "code",
   "execution_count": null,
   "metadata": {},
   "outputs": [],
   "source": []
  },
  {
   "cell_type": "code",
   "execution_count": null,
   "metadata": {},
   "outputs": [],
   "source": []
  },
  {
   "cell_type": "code",
   "execution_count": null,
   "metadata": {},
   "outputs": [],
   "source": []
  }
 ],
 "metadata": {
  "kernelspec": {
   "display_name": "Python 3",
   "language": "python",
   "name": "python3"
  },
  "language_info": {
   "codemirror_mode": {
    "name": "ipython",
    "version": 3
   },
   "file_extension": ".py",
   "mimetype": "text/x-python",
   "name": "python",
   "nbconvert_exporter": "python",
   "pygments_lexer": "ipython3",
   "version": "3.6.1"
  }
 },
 "nbformat": 4,
 "nbformat_minor": 2
}
