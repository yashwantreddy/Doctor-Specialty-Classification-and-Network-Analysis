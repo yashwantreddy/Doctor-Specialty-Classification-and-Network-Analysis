{
 "cells": [
  {
   "cell_type": "code",
   "execution_count": 1,
   "metadata": {},
   "outputs": [],
   "source": [
    "import pandas as pd\n",
    "import numpy as np\n",
    "import matplotlib.pyplot as plt\n",
    "import seaborn as sns\n",
    "%matplotlib inline"
   ]
  },
  {
   "cell_type": "code",
   "execution_count": 2,
   "metadata": {},
   "outputs": [],
   "source": [
    "df_proc = pd.read_csv('data/procedures.csv')"
   ]
  },
  {
   "cell_type": "code",
   "execution_count": 3,
   "metadata": {},
   "outputs": [],
   "source": [
    "df_phy = pd.read_csv('data/physicians.csv')"
   ]
  },
  {
   "cell_type": "code",
   "execution_count": 4,
   "metadata": {},
   "outputs": [],
   "source": [
    "df_phy[['Cardiologist','Diagnostic Radiologist','Internal Medicine','Family Practice','Orthopedic Surgeon']]=pd.get_dummies(df_phy.specialty)[['Cardiology','Diagnostic Radiology','Internal Medicine','Family Practice','Orthopedic Surgery']]\n",
    "df_phy.columns = ['physician_id','specialty','Cardiologist','Diagnostic Radiologist','Internal Medicine','Family Practice','Orthopedic Surgeon']"
   ]
  },
  {
   "cell_type": "code",
   "execution_count": 5,
   "metadata": {},
   "outputs": [],
   "source": [
    "merged = pd.merge(df_proc, df_phy, left_on='physician_id',right_on='physician_id',how='outer')"
   ]
  },
  {
   "cell_type": "code",
   "execution_count": 6,
   "metadata": {},
   "outputs": [
    {
     "data": {
      "text/plain": [
       "36025"
      ]
     },
     "execution_count": 6,
     "metadata": {},
     "output_type": "execute_result"
    }
   ],
   "source": [
    "len(merged.physician_id.unique())"
   ]
  },
  {
   "cell_type": "markdown",
   "metadata": {},
   "source": [
    "We have 36025 doctors. But so many of them just appear once/few times. Lets take a look at the top 1000."
   ]
  },
  {
   "cell_type": "code",
   "execution_count": 7,
   "metadata": {},
   "outputs": [
    {
     "data": {
      "text/plain": [
       "716      161\n",
       "21467    160\n",
       "15761    134\n",
       "28869    131\n",
       "13793    131\n",
       "29737    128\n",
       "16629    126\n",
       "24658    119\n",
       "31313    118\n",
       "26070    118\n",
       "11309    115\n",
       "18910    114\n",
       "1592     114\n",
       "33658    113\n",
       "1274     113\n",
       "32145    113\n",
       "25452    111\n",
       "28285    108\n",
       "8053     108\n",
       "10835    107\n",
       "248      106\n",
       "31097    106\n",
       "13601    106\n",
       "3258     105\n",
       "22049    104\n",
       "34640    104\n",
       "6591     102\n",
       "16017    102\n",
       "32393    102\n",
       "23418    101\n",
       "        ... \n",
       "3246      53\n",
       "33024     53\n",
       "14346     53\n",
       "35531     53\n",
       "6066      53\n",
       "13777     53\n",
       "12343     53\n",
       "4304      53\n",
       "31475     53\n",
       "22889     52\n",
       "31221     52\n",
       "13346     52\n",
       "12473     52\n",
       "1834      52\n",
       "30158     52\n",
       "32006     52\n",
       "11151     52\n",
       "12013     52\n",
       "5587      52\n",
       "34522     52\n",
       "33359     52\n",
       "16000     52\n",
       "30187     52\n",
       "19808     52\n",
       "7009      52\n",
       "34304     52\n",
       "29331     52\n",
       "360       52\n",
       "21142     52\n",
       "5423      52\n",
       "Name: physician_id, Length: 1000, dtype: int64"
      ]
     },
     "execution_count": 7,
     "metadata": {},
     "output_type": "execute_result"
    }
   ],
   "source": [
    "merged.physician_id.value_counts().head(1000)"
   ]
  },
  {
   "cell_type": "markdown",
   "metadata": {},
   "source": [
    "Here, we can see that the doctors with id 716 and 21467 have the highest number of rows(161 and 160 respectively), i.e they've performed the most diverse set of procedures. Also the top 1000 contains doctors performed from 160ish procedures upto 52. Going all the way to top 10000 gets us to upto 20ish procedures. That's around 9000 doctors who have performed 20-50 procedures. Not bad."
   ]
  },
  {
   "cell_type": "code",
   "execution_count": 8,
   "metadata": {},
   "outputs": [
    {
     "name": "stdout",
     "output_type": "stream",
     "text": [
      "118\n",
      "160\n"
     ]
    }
   ],
   "source": [
    "print(len(merged[merged.physician_id==716]['procedure_code'].unique()))\n",
    "print(len(merged[merged.physician_id==21467]['procedure_code'].unique()))"
   ]
  },
  {
   "cell_type": "markdown",
   "metadata": {},
   "source": [
    "118 and 160 unique procedures performed by each."
   ]
  },
  {
   "cell_type": "code",
   "execution_count": 9,
   "metadata": {},
   "outputs": [],
   "source": [
    "lst=[]\n",
    "for i in merged.physician_id.unique():\n",
    "    lst.append(len(merged[merged.physician_id==i]['procedure_code'].unique()))"
   ]
  },
  {
   "cell_type": "code",
   "execution_count": 10,
   "metadata": {},
   "outputs": [],
   "source": [
    "d={}\n",
    "for i,val in enumerate(lst):\n",
    "    if i not in d.keys():\n",
    "        d[i]=val"
   ]
  },
  {
   "cell_type": "code",
   "execution_count": 11,
   "metadata": {},
   "outputs": [
    {
     "name": "stdout",
     "output_type": "stream",
     "text": [
      "118\n",
      "160\n"
     ]
    }
   ],
   "source": [
    "print(d[716])\n",
    "print(d[21467])"
   ]
  },
  {
   "cell_type": "markdown",
   "metadata": {},
   "source": [
    "We have the physician_id and their number of unique procedures in a dictionary."
   ]
  },
  {
   "cell_type": "markdown",
   "metadata": {},
   "source": [
    "Doctor => procedures"
   ]
  },
  {
   "cell_type": "code",
   "execution_count": 12,
   "metadata": {},
   "outputs": [],
   "source": [
    "samp_doc_id = [1,2,3,4,5]\n",
    "samp_proc_id = [212,313,414,515,616,717,818,919]"
   ]
  },
  {
   "cell_type": "code",
   "execution_count": 13,
   "metadata": {},
   "outputs": [],
   "source": [
    "#for the sake of this example,lets say that we have\n",
    "# 1 -> 212,313\n",
    "# 2 -> 212\n",
    "# 3 -> 313,414,818\n",
    "# 4 -> 717\n",
    "# 5 -> 515,616,919\n"
   ]
  },
  {
   "cell_type": "code",
   "execution_count": 14,
   "metadata": {},
   "outputs": [],
   "source": [
    "import numpy as np"
   ]
  },
  {
   "cell_type": "code",
   "execution_count": 15,
   "metadata": {},
   "outputs": [],
   "source": [
    "adj_dict = {\n",
    "            1:{212,313},\n",
    "            2:{212},\n",
    "            3:{313,414,818},\n",
    "            4:{717},\n",
    "            5:{515,616,919}\n",
    "            }"
   ]
  },
  {
   "cell_type": "code",
   "execution_count": 16,
   "metadata": {},
   "outputs": [],
   "source": [
    "#        212,313,414,515,616,717,818,919\n",
    "#    1    1   1   0   0    0   0  0   0\n",
    "#    2\n",
    "#    3           ETC\n",
    "#    4\n",
    "#    5"
   ]
  },
  {
   "cell_type": "code",
   "execution_count": 17,
   "metadata": {},
   "outputs": [],
   "source": [
    "adj_mat = np.array([[1,1,0,0,0,0,0,0],[1,0,0,0,0,0,0,0],[0,1,1,0,0,0,1,0],[0,0,0,0,0,1,0,0],[0,0,0,1,1,0,0,1]]) "
   ]
  },
  {
   "cell_type": "code",
   "execution_count": 18,
   "metadata": {},
   "outputs": [
    {
     "data": {
      "text/plain": [
       "array([[1, 1, 0, 0, 0, 0, 0, 0],\n",
       "       [1, 0, 0, 0, 0, 0, 0, 0],\n",
       "       [0, 1, 1, 0, 0, 0, 1, 0],\n",
       "       [0, 0, 0, 0, 0, 1, 0, 0],\n",
       "       [0, 0, 0, 1, 1, 0, 0, 1]])"
      ]
     },
     "execution_count": 18,
     "metadata": {},
     "output_type": "execute_result"
    }
   ],
   "source": [
    "adj_mat"
   ]
  },
  {
   "cell_type": "code",
   "execution_count": 19,
   "metadata": {},
   "outputs": [],
   "source": [
    "import networkx as nx\n",
    "import nxpd\n",
    "import graphviz\n",
    "import matplotlib.pyplot as plt\n",
    "from matplotlib import collections as mc\n",
    "from collections import deque\n",
    "from itertools import product\n",
    "%matplotlib inline"
   ]
  },
  {
   "cell_type": "code",
   "execution_count": 20,
   "metadata": {},
   "outputs": [],
   "source": [
    "G = nx.from_dict_of_lists(adj_dict)"
   ]
  },
  {
   "cell_type": "code",
   "execution_count": 21,
   "metadata": {},
   "outputs": [],
   "source": [
    "top_50 = merged.physician_id.value_counts().head(50)"
   ]
  },
  {
   "cell_type": "code",
   "execution_count": 22,
   "metadata": {},
   "outputs": [
    {
     "data": {
      "text/plain": [
       "array([  716, 21467, 15761, 28869, 13793, 29737, 16629, 24658, 31313,\n",
       "       26070, 11309, 18910,  1592, 33658,  1274, 32145, 25452, 28285,\n",
       "        8053, 10835,   248, 31097, 13601,  3258, 22049, 34640,  6591,\n",
       "       16017, 32393, 23418,  2180, 13359,  5208, 19741, 31562, 10958,\n",
       "       10204,  7036, 11914,  3714,  6730,  2820, 30438, 31993, 20846,\n",
       "       14628,  4968,  4269, 30033, 20868], dtype=int64)"
      ]
     },
     "execution_count": 22,
     "metadata": {},
     "output_type": "execute_result"
    }
   ],
   "source": [
    "top_50.index.values"
   ]
  },
  {
   "cell_type": "code",
   "execution_count": null,
   "metadata": {},
   "outputs": [],
   "source": []
  },
  {
   "cell_type": "code",
   "execution_count": 23,
   "metadata": {},
   "outputs": [],
   "source": [
    "d1={}\n",
    "for i in top_50.index.values:\n",
    "    if i not in d1.keys():\n",
    "        d1[str(i)]=merged[merged.physician_id==i]['procedure_code'].unique()"
   ]
  },
  {
   "cell_type": "code",
   "execution_count": null,
   "metadata": {},
   "outputs": [],
   "source": []
  },
  {
   "cell_type": "code",
   "execution_count": 24,
   "metadata": {},
   "outputs": [],
   "source": [
    "G = nx.from_dict_of_lists(d1)"
   ]
  },
  {
   "cell_type": "code",
   "execution_count": 25,
   "metadata": {},
   "outputs": [],
   "source": [
    "nx.write_gml(G, 'top_50.gml')"
   ]
  },
  {
   "cell_type": "code",
   "execution_count": 26,
   "metadata": {},
   "outputs": [],
   "source": [
    "from collections import Counter"
   ]
  },
  {
   "cell_type": "code",
   "execution_count": 27,
   "metadata": {},
   "outputs": [
    {
     "data": {
      "text/plain": [
       "Counter({1: 3, 2: 1, 3: 1})"
      ]
     },
     "execution_count": 27,
     "metadata": {},
     "output_type": "execute_result"
    }
   ],
   "source": [
    "Counter([1,1,1,2,3])"
   ]
  },
  {
   "cell_type": "code",
   "execution_count": 28,
   "metadata": {},
   "outputs": [],
   "source": [
    "kist=[]\n",
    "for i in top_50.index.values:\n",
    "    kist.append(merged[merged.physician_id==i]['specialty'].iloc[0])"
   ]
  },
  {
   "cell_type": "code",
   "execution_count": 29,
   "metadata": {},
   "outputs": [
    {
     "data": {
      "text/plain": [
       "Counter({'Cardiology': 2,\n",
       "         'Diagnostic Radiology': 27,\n",
       "         'Family Practice': 1,\n",
       "         'Hematology/Oncology': 4,\n",
       "         'Medical Oncology': 1,\n",
       "         'Unknown': 15})"
      ]
     },
     "execution_count": 29,
     "metadata": {},
     "output_type": "execute_result"
    }
   ],
   "source": [
    "Counter(kist)"
   ]
  },
  {
   "cell_type": "code",
   "execution_count": 30,
   "metadata": {},
   "outputs": [],
   "source": [
    "from collections import defaultdict"
   ]
  },
  {
   "cell_type": "code",
   "execution_count": 37,
   "metadata": {},
   "outputs": [],
   "source": [
    "test_df = pd.DataFrame(columns=['prof','procs'])\n",
    "for i in top_50.index.values:\n",
    "        test_df = test_df.append({'prof': merged[merged.physician_id==i]['specialty'].iloc[0], 'procs':merged[merged.physician_id==i]['procedure_code'].unique()},ignore_index=True)    "
   ]
  },
  {
   "cell_type": "code",
   "execution_count": 38,
   "metadata": {},
   "outputs": [
    {
     "data": {
      "text/html": [
       "<div>\n",
       "<style>\n",
       "    .dataframe thead tr:only-child th {\n",
       "        text-align: right;\n",
       "    }\n",
       "\n",
       "    .dataframe thead th {\n",
       "        text-align: left;\n",
       "    }\n",
       "\n",
       "    .dataframe tbody tr th {\n",
       "        vertical-align: top;\n",
       "    }\n",
       "</style>\n",
       "<table border=\"1\" class=\"dataframe\">\n",
       "  <thead>\n",
       "    <tr style=\"text-align: right;\">\n",
       "      <th></th>\n",
       "      <th>prof</th>\n",
       "      <th>procs</th>\n",
       "    </tr>\n",
       "  </thead>\n",
       "  <tbody>\n",
       "    <tr>\n",
       "      <th>0</th>\n",
       "      <td>Diagnostic Radiology</td>\n",
       "      <td>[19281, 20610, 32555, 70210, 70220, 70450, 704...</td>\n",
       "    </tr>\n",
       "    <tr>\n",
       "      <th>1</th>\n",
       "      <td>Family Practice</td>\n",
       "      <td>[20552, 20553, 20610, 51701, 51798, 70130, 702...</td>\n",
       "    </tr>\n",
       "    <tr>\n",
       "      <th>2</th>\n",
       "      <td>Diagnostic Radiology</td>\n",
       "      <td>[70450, 70486, 70491, 70551, 70553, 71010, 710...</td>\n",
       "    </tr>\n",
       "    <tr>\n",
       "      <th>3</th>\n",
       "      <td>Unknown</td>\n",
       "      <td>[49083, 70450, 70470, 70486, 70491, 70496, 704...</td>\n",
       "    </tr>\n",
       "    <tr>\n",
       "      <th>4</th>\n",
       "      <td>Diagnostic Radiology</td>\n",
       "      <td>[32555, 49083, 70450, 70470, 70480, 70486, 704...</td>\n",
       "    </tr>\n",
       "    <tr>\n",
       "      <th>5</th>\n",
       "      <td>Hematology/Oncology</td>\n",
       "      <td>[36415, 38220, 38221, 70491, 71020, 71250, 712...</td>\n",
       "    </tr>\n",
       "    <tr>\n",
       "      <th>6</th>\n",
       "      <td>Unknown</td>\n",
       "      <td>[10022, 20610, 22523, 22524, 32555, 36569, 490...</td>\n",
       "    </tr>\n",
       "    <tr>\n",
       "      <th>7</th>\n",
       "      <td>Diagnostic Radiology</td>\n",
       "      <td>[70450, 70486, 70491, 70551, 70553, 71010, 710...</td>\n",
       "    </tr>\n",
       "    <tr>\n",
       "      <th>8</th>\n",
       "      <td>Diagnostic Radiology</td>\n",
       "      <td>[10022, 70450, 70470, 70480, 70486, 70490, 704...</td>\n",
       "    </tr>\n",
       "    <tr>\n",
       "      <th>9</th>\n",
       "      <td>Diagnostic Radiology</td>\n",
       "      <td>[19083, 70450, 70470, 70486, 70551, 71010, 710...</td>\n",
       "    </tr>\n",
       "    <tr>\n",
       "      <th>10</th>\n",
       "      <td>Unknown</td>\n",
       "      <td>[32555, 49083, 51600, 70150, 70220, 70250, 702...</td>\n",
       "    </tr>\n",
       "    <tr>\n",
       "      <th>11</th>\n",
       "      <td>Diagnostic Radiology</td>\n",
       "      <td>[32405, 32555, 49083, 70450, 70486, 70551, 705...</td>\n",
       "    </tr>\n",
       "    <tr>\n",
       "      <th>12</th>\n",
       "      <td>Unknown</td>\n",
       "      <td>[19083, 70220, 70450, 70470, 70486, 70491, 705...</td>\n",
       "    </tr>\n",
       "    <tr>\n",
       "      <th>13</th>\n",
       "      <td>Diagnostic Radiology</td>\n",
       "      <td>[19083, 20610, 36569, 70220, 70450, 70470, 704...</td>\n",
       "    </tr>\n",
       "    <tr>\n",
       "      <th>14</th>\n",
       "      <td>Unknown</td>\n",
       "      <td>[32555, 62311, 64493, 64494, 64495, 70450, 704...</td>\n",
       "    </tr>\n",
       "    <tr>\n",
       "      <th>15</th>\n",
       "      <td>Cardiology</td>\n",
       "      <td>[36246, 36248, 36252, 36415, 69210, 76536, 767...</td>\n",
       "    </tr>\n",
       "    <tr>\n",
       "      <th>16</th>\n",
       "      <td>Diagnostic Radiology</td>\n",
       "      <td>[35475, 35476, 36147, 36148, 36556, 36558, 365...</td>\n",
       "    </tr>\n",
       "    <tr>\n",
       "      <th>17</th>\n",
       "      <td>Unknown</td>\n",
       "      <td>[70450, 70470, 70486, 70491, 70543, 70544, 705...</td>\n",
       "    </tr>\n",
       "    <tr>\n",
       "      <th>18</th>\n",
       "      <td>Unknown</td>\n",
       "      <td>[17000, 17003, 33208, 36252, 36415, 37227, 372...</td>\n",
       "    </tr>\n",
       "    <tr>\n",
       "      <th>19</th>\n",
       "      <td>Diagnostic Radiology</td>\n",
       "      <td>[70450, 70470, 70486, 70491, 70551, 70553, 710...</td>\n",
       "    </tr>\n",
       "    <tr>\n",
       "      <th>20</th>\n",
       "      <td>Hematology/Oncology</td>\n",
       "      <td>[36415, 38221, 70491, 71020, 71250, 71260, 741...</td>\n",
       "    </tr>\n",
       "    <tr>\n",
       "      <th>21</th>\n",
       "      <td>Hematology/Oncology</td>\n",
       "      <td>[36415, 38220, 38221, 71250, 71260, 74176, 741...</td>\n",
       "    </tr>\n",
       "    <tr>\n",
       "      <th>22</th>\n",
       "      <td>Diagnostic Radiology</td>\n",
       "      <td>[70450, 70470, 70486, 70551, 70553, 71010, 710...</td>\n",
       "    </tr>\n",
       "    <tr>\n",
       "      <th>23</th>\n",
       "      <td>Diagnostic Radiology</td>\n",
       "      <td>[19081, 19083, 36569, 70220, 70450, 70470, 704...</td>\n",
       "    </tr>\n",
       "    <tr>\n",
       "      <th>24</th>\n",
       "      <td>Diagnostic Radiology</td>\n",
       "      <td>[19083, 20610, 70450, 70486, 70496, 70498, 705...</td>\n",
       "    </tr>\n",
       "    <tr>\n",
       "      <th>25</th>\n",
       "      <td>Diagnostic Radiology</td>\n",
       "      <td>[70450, 70470, 70480, 70486, 70491, 70551, 705...</td>\n",
       "    </tr>\n",
       "    <tr>\n",
       "      <th>26</th>\n",
       "      <td>Diagnostic Radiology</td>\n",
       "      <td>[32555, 35476, 36147, 36148, 36556, 36558, 365...</td>\n",
       "    </tr>\n",
       "    <tr>\n",
       "      <th>27</th>\n",
       "      <td>Diagnostic Radiology</td>\n",
       "      <td>[10022, 32555, 35475, 35476, 36010, 36147, 361...</td>\n",
       "    </tr>\n",
       "    <tr>\n",
       "      <th>28</th>\n",
       "      <td>Unknown</td>\n",
       "      <td>[36415, 70220, 70450, 70486, 70544, 70551, 710...</td>\n",
       "    </tr>\n",
       "    <tr>\n",
       "      <th>29</th>\n",
       "      <td>Unknown</td>\n",
       "      <td>[62270, 70450, 70470, 70486, 70491, 70498, 705...</td>\n",
       "    </tr>\n",
       "    <tr>\n",
       "      <th>30</th>\n",
       "      <td>Hematology/Oncology</td>\n",
       "      <td>[36415, 36591, 38221, 71020, 71250, 71260, 741...</td>\n",
       "    </tr>\n",
       "    <tr>\n",
       "      <th>31</th>\n",
       "      <td>Diagnostic Radiology</td>\n",
       "      <td>[32405, 32557, 36471, 36478, 36556, 36569, 470...</td>\n",
       "    </tr>\n",
       "    <tr>\n",
       "      <th>32</th>\n",
       "      <td>Diagnostic Radiology</td>\n",
       "      <td>[0159T, 19081, 19083, 19084, 19285, 70450, 704...</td>\n",
       "    </tr>\n",
       "    <tr>\n",
       "      <th>33</th>\n",
       "      <td>Medical Oncology</td>\n",
       "      <td>[36415, 38221, 70491, 70553, 71020, 71250, 712...</td>\n",
       "    </tr>\n",
       "    <tr>\n",
       "      <th>34</th>\n",
       "      <td>Unknown</td>\n",
       "      <td>[10060, 20610, 36415, 69210, 70450, 70486, 704...</td>\n",
       "    </tr>\n",
       "    <tr>\n",
       "      <th>35</th>\n",
       "      <td>Diagnostic Radiology</td>\n",
       "      <td>[20610, 36471, 62311, 70450, 70470, 70486, 705...</td>\n",
       "    </tr>\n",
       "    <tr>\n",
       "      <th>36</th>\n",
       "      <td>Cardiology</td>\n",
       "      <td>[36415, 70450, 71020, 71250, 72050, 75571, 763...</td>\n",
       "    </tr>\n",
       "    <tr>\n",
       "      <th>37</th>\n",
       "      <td>Diagnostic Radiology</td>\n",
       "      <td>[36569, 70450, 70470, 70486, 70491, 70496, 704...</td>\n",
       "    </tr>\n",
       "    <tr>\n",
       "      <th>38</th>\n",
       "      <td>Diagnostic Radiology</td>\n",
       "      <td>[19081, 19083, 70450, 70486, 70496, 70498, 705...</td>\n",
       "    </tr>\n",
       "    <tr>\n",
       "      <th>39</th>\n",
       "      <td>Unknown</td>\n",
       "      <td>[10022, 32555, 49083, 70210, 70220, 70450, 710...</td>\n",
       "    </tr>\n",
       "    <tr>\n",
       "      <th>40</th>\n",
       "      <td>Diagnostic Radiology</td>\n",
       "      <td>[10022, 20610, 23350, 32405, 32555, 36569, 382...</td>\n",
       "    </tr>\n",
       "    <tr>\n",
       "      <th>41</th>\n",
       "      <td>Diagnostic Radiology</td>\n",
       "      <td>[70450, 70470, 70486, 70490, 70491, 70492, 704...</td>\n",
       "    </tr>\n",
       "    <tr>\n",
       "      <th>42</th>\n",
       "      <td>Unknown</td>\n",
       "      <td>[32555, 70450, 70470, 70486, 70492, 70496, 704...</td>\n",
       "    </tr>\n",
       "    <tr>\n",
       "      <th>43</th>\n",
       "      <td>Unknown</td>\n",
       "      <td>[36415, 71020, 71250, 71260, 74160, 74176, 741...</td>\n",
       "    </tr>\n",
       "    <tr>\n",
       "      <th>44</th>\n",
       "      <td>Unknown</td>\n",
       "      <td>[33208, 33228, 33249, 34802, 36200, 36245, 364...</td>\n",
       "    </tr>\n",
       "    <tr>\n",
       "      <th>45</th>\n",
       "      <td>Diagnostic Radiology</td>\n",
       "      <td>[70486, 71010, 71020, 71100, 71101, 71110, 712...</td>\n",
       "    </tr>\n",
       "    <tr>\n",
       "      <th>46</th>\n",
       "      <td>Diagnostic Radiology</td>\n",
       "      <td>[60100, 70220, 70450, 70470, 70486, 70490, 704...</td>\n",
       "    </tr>\n",
       "    <tr>\n",
       "      <th>47</th>\n",
       "      <td>Diagnostic Radiology</td>\n",
       "      <td>[70450, 70491, 70496, 70498, 70544, 70551, 705...</td>\n",
       "    </tr>\n",
       "    <tr>\n",
       "      <th>48</th>\n",
       "      <td>Diagnostic Radiology</td>\n",
       "      <td>[32405, 32555, 47000, 49083, 50390, 50392, 704...</td>\n",
       "    </tr>\n",
       "    <tr>\n",
       "      <th>49</th>\n",
       "      <td>Unknown</td>\n",
       "      <td>[70450, 70486, 70491, 70496, 70498, 70544, 705...</td>\n",
       "    </tr>\n",
       "  </tbody>\n",
       "</table>\n",
       "</div>"
      ],
      "text/plain": [
       "                    prof                                              procs\n",
       "0   Diagnostic Radiology  [19281, 20610, 32555, 70210, 70220, 70450, 704...\n",
       "1        Family Practice  [20552, 20553, 20610, 51701, 51798, 70130, 702...\n",
       "2   Diagnostic Radiology  [70450, 70486, 70491, 70551, 70553, 71010, 710...\n",
       "3                Unknown  [49083, 70450, 70470, 70486, 70491, 70496, 704...\n",
       "4   Diagnostic Radiology  [32555, 49083, 70450, 70470, 70480, 70486, 704...\n",
       "5    Hematology/Oncology  [36415, 38220, 38221, 70491, 71020, 71250, 712...\n",
       "6                Unknown  [10022, 20610, 22523, 22524, 32555, 36569, 490...\n",
       "7   Diagnostic Radiology  [70450, 70486, 70491, 70551, 70553, 71010, 710...\n",
       "8   Diagnostic Radiology  [10022, 70450, 70470, 70480, 70486, 70490, 704...\n",
       "9   Diagnostic Radiology  [19083, 70450, 70470, 70486, 70551, 71010, 710...\n",
       "10               Unknown  [32555, 49083, 51600, 70150, 70220, 70250, 702...\n",
       "11  Diagnostic Radiology  [32405, 32555, 49083, 70450, 70486, 70551, 705...\n",
       "12               Unknown  [19083, 70220, 70450, 70470, 70486, 70491, 705...\n",
       "13  Diagnostic Radiology  [19083, 20610, 36569, 70220, 70450, 70470, 704...\n",
       "14               Unknown  [32555, 62311, 64493, 64494, 64495, 70450, 704...\n",
       "15            Cardiology  [36246, 36248, 36252, 36415, 69210, 76536, 767...\n",
       "16  Diagnostic Radiology  [35475, 35476, 36147, 36148, 36556, 36558, 365...\n",
       "17               Unknown  [70450, 70470, 70486, 70491, 70543, 70544, 705...\n",
       "18               Unknown  [17000, 17003, 33208, 36252, 36415, 37227, 372...\n",
       "19  Diagnostic Radiology  [70450, 70470, 70486, 70491, 70551, 70553, 710...\n",
       "20   Hematology/Oncology  [36415, 38221, 70491, 71020, 71250, 71260, 741...\n",
       "21   Hematology/Oncology  [36415, 38220, 38221, 71250, 71260, 74176, 741...\n",
       "22  Diagnostic Radiology  [70450, 70470, 70486, 70551, 70553, 71010, 710...\n",
       "23  Diagnostic Radiology  [19081, 19083, 36569, 70220, 70450, 70470, 704...\n",
       "24  Diagnostic Radiology  [19083, 20610, 70450, 70486, 70496, 70498, 705...\n",
       "25  Diagnostic Radiology  [70450, 70470, 70480, 70486, 70491, 70551, 705...\n",
       "26  Diagnostic Radiology  [32555, 35476, 36147, 36148, 36556, 36558, 365...\n",
       "27  Diagnostic Radiology  [10022, 32555, 35475, 35476, 36010, 36147, 361...\n",
       "28               Unknown  [36415, 70220, 70450, 70486, 70544, 70551, 710...\n",
       "29               Unknown  [62270, 70450, 70470, 70486, 70491, 70498, 705...\n",
       "30   Hematology/Oncology  [36415, 36591, 38221, 71020, 71250, 71260, 741...\n",
       "31  Diagnostic Radiology  [32405, 32557, 36471, 36478, 36556, 36569, 470...\n",
       "32  Diagnostic Radiology  [0159T, 19081, 19083, 19084, 19285, 70450, 704...\n",
       "33      Medical Oncology  [36415, 38221, 70491, 70553, 71020, 71250, 712...\n",
       "34               Unknown  [10060, 20610, 36415, 69210, 70450, 70486, 704...\n",
       "35  Diagnostic Radiology  [20610, 36471, 62311, 70450, 70470, 70486, 705...\n",
       "36            Cardiology  [36415, 70450, 71020, 71250, 72050, 75571, 763...\n",
       "37  Diagnostic Radiology  [36569, 70450, 70470, 70486, 70491, 70496, 704...\n",
       "38  Diagnostic Radiology  [19081, 19083, 70450, 70486, 70496, 70498, 705...\n",
       "39               Unknown  [10022, 32555, 49083, 70210, 70220, 70450, 710...\n",
       "40  Diagnostic Radiology  [10022, 20610, 23350, 32405, 32555, 36569, 382...\n",
       "41  Diagnostic Radiology  [70450, 70470, 70486, 70490, 70491, 70492, 704...\n",
       "42               Unknown  [32555, 70450, 70470, 70486, 70492, 70496, 704...\n",
       "43               Unknown  [36415, 71020, 71250, 71260, 74160, 74176, 741...\n",
       "44               Unknown  [33208, 33228, 33249, 34802, 36200, 36245, 364...\n",
       "45  Diagnostic Radiology  [70486, 71010, 71020, 71100, 71101, 71110, 712...\n",
       "46  Diagnostic Radiology  [60100, 70220, 70450, 70470, 70486, 70490, 704...\n",
       "47  Diagnostic Radiology  [70450, 70491, 70496, 70498, 70544, 70551, 705...\n",
       "48  Diagnostic Radiology  [32405, 32555, 47000, 49083, 50390, 50392, 704...\n",
       "49               Unknown  [70450, 70486, 70491, 70496, 70498, 70544, 705..."
      ]
     },
     "execution_count": 38,
     "metadata": {},
     "output_type": "execute_result"
    }
   ],
   "source": [
    "test_df"
   ]
  },
  {
   "cell_type": "code",
   "execution_count": 46,
   "metadata": {},
   "outputs": [
    {
     "ename": "KeyError",
     "evalue": "'Diagnostic Radiology'",
     "output_type": "error",
     "traceback": [
      "\u001b[1;31m---------------------------------------------------------------------------\u001b[0m",
      "\u001b[1;31mKeyError\u001b[0m                                  Traceback (most recent call last)",
      "\u001b[1;32m<ipython-input-46-2c34acc4e89b>\u001b[0m in \u001b[0;36m<module>\u001b[1;34m()\u001b[0m\n\u001b[0;32m      1\u001b[0m \u001b[0md\u001b[0m\u001b[1;33m=\u001b[0m\u001b[0mdefaultdict\u001b[0m\u001b[1;33m(\u001b[0m\u001b[1;33m)\u001b[0m\u001b[1;33m\u001b[0m\u001b[0m\n\u001b[0;32m      2\u001b[0m \u001b[1;32mfor\u001b[0m \u001b[0mi\u001b[0m \u001b[1;32min\u001b[0m \u001b[0mtop_50\u001b[0m\u001b[1;33m.\u001b[0m\u001b[0mindex\u001b[0m\u001b[1;33m.\u001b[0m\u001b[0mvalues\u001b[0m\u001b[1;33m:\u001b[0m\u001b[1;33m\u001b[0m\u001b[0m\n\u001b[1;32m----> 3\u001b[1;33m         \u001b[0md\u001b[0m\u001b[1;33m[\u001b[0m\u001b[0mmerged\u001b[0m\u001b[1;33m[\u001b[0m\u001b[0mmerged\u001b[0m\u001b[1;33m.\u001b[0m\u001b[0mphysician_id\u001b[0m\u001b[1;33m==\u001b[0m\u001b[0mi\u001b[0m\u001b[1;33m]\u001b[0m\u001b[1;33m[\u001b[0m\u001b[1;34m'specialty'\u001b[0m\u001b[1;33m]\u001b[0m\u001b[1;33m.\u001b[0m\u001b[0miloc\u001b[0m\u001b[1;33m[\u001b[0m\u001b[1;36m0\u001b[0m\u001b[1;33m]\u001b[0m\u001b[1;33m]\u001b[0m\u001b[1;33m.\u001b[0m\u001b[0mappend\u001b[0m\u001b[1;33m(\u001b[0m\u001b[0mmerged\u001b[0m\u001b[1;33m[\u001b[0m\u001b[0mmerged\u001b[0m\u001b[1;33m.\u001b[0m\u001b[0mphysician_id\u001b[0m\u001b[1;33m==\u001b[0m\u001b[0mi\u001b[0m\u001b[1;33m]\u001b[0m\u001b[1;33m[\u001b[0m\u001b[1;34m'procedure_code'\u001b[0m\u001b[1;33m]\u001b[0m\u001b[1;33m.\u001b[0m\u001b[0munique\u001b[0m\u001b[1;33m(\u001b[0m\u001b[1;33m)\u001b[0m\u001b[1;33m)\u001b[0m\u001b[1;33m\u001b[0m\u001b[0m\n\u001b[0m",
      "\u001b[1;31mKeyError\u001b[0m: 'Diagnostic Radiology'"
     ]
    }
   ],
   "source": [
    "d=defaultdict()\n",
    "for i in top_50.index.values:\n",
    "        d[merged[merged.physician_id==i]['specialty'].iloc[0]].append(merged[merged.physician_id==i]['procedure_code'].unique())"
   ]
  },
  {
   "cell_type": "code",
   "execution_count": 47,
   "metadata": {},
   "outputs": [],
   "source": [
    "#what we need {'physician_id':{'specialty': {1,2,3,4,5}}}"
   ]
  },
  {
   "cell_type": "code",
   "execution_count": 49,
   "metadata": {},
   "outputs": [
    {
     "ename": "ValueError",
     "evalue": "dictionary update sequence element #0 has length 1; 2 is required",
     "output_type": "error",
     "traceback": [
      "\u001b[1;31m---------------------------------------------------------------------------\u001b[0m",
      "\u001b[1;31mValueError\u001b[0m                                Traceback (most recent call last)",
      "\u001b[1;32m<ipython-input-49-6220e6bdfaf4>\u001b[0m in \u001b[0;36m<module>\u001b[1;34m()\u001b[0m\n\u001b[0;32m      2\u001b[0m \u001b[1;32mfor\u001b[0m \u001b[0mi\u001b[0m \u001b[1;32min\u001b[0m \u001b[0mtop_50\u001b[0m\u001b[1;33m.\u001b[0m\u001b[0mindex\u001b[0m\u001b[1;33m.\u001b[0m\u001b[0mvalues\u001b[0m\u001b[1;33m:\u001b[0m\u001b[1;33m\u001b[0m\u001b[0m\n\u001b[0;32m      3\u001b[0m     \u001b[1;32mif\u001b[0m \u001b[0mi\u001b[0m \u001b[1;32mnot\u001b[0m \u001b[1;32min\u001b[0m \u001b[0md2\u001b[0m\u001b[1;33m.\u001b[0m\u001b[0mkeys\u001b[0m\u001b[1;33m(\u001b[0m\u001b[1;33m)\u001b[0m\u001b[1;33m:\u001b[0m\u001b[1;33m\u001b[0m\u001b[0m\n\u001b[1;32m----> 4\u001b[1;33m         \u001b[0md2\u001b[0m\u001b[1;33m[\u001b[0m\u001b[0mstr\u001b[0m\u001b[1;33m(\u001b[0m\u001b[0mi\u001b[0m\u001b[1;33m)\u001b[0m\u001b[1;33m]\u001b[0m\u001b[1;33m=\u001b[0m\u001b[0mdict\u001b[0m\u001b[1;33m(\u001b[0m\u001b[0mmerged\u001b[0m\u001b[1;33m[\u001b[0m\u001b[0mmerged\u001b[0m\u001b[1;33m.\u001b[0m\u001b[0mphysician_id\u001b[0m\u001b[1;33m==\u001b[0m\u001b[0mi\u001b[0m\u001b[1;33m]\u001b[0m\u001b[1;33m[\u001b[0m\u001b[1;34m'specialty'\u001b[0m\u001b[1;33m]\u001b[0m\u001b[1;33m.\u001b[0m\u001b[0miloc\u001b[0m\u001b[1;33m[\u001b[0m\u001b[1;36m0\u001b[0m\u001b[1;33m]\u001b[0m\u001b[1;33m)\u001b[0m\u001b[1;33m\u001b[0m\u001b[0m\n\u001b[0m\u001b[0;32m      5\u001b[0m         \u001b[0md2\u001b[0m\u001b[1;33m[\u001b[0m\u001b[0mstr\u001b[0m\u001b[1;33m(\u001b[0m\u001b[0mi\u001b[0m\u001b[1;33m)\u001b[0m\u001b[1;33m]\u001b[0m\u001b[1;33m[\u001b[0m\u001b[0mmerged\u001b[0m\u001b[1;33m[\u001b[0m\u001b[0mmerged\u001b[0m\u001b[1;33m.\u001b[0m\u001b[0mphysician_id\u001b[0m\u001b[1;33m==\u001b[0m\u001b[0mi\u001b[0m\u001b[1;33m]\u001b[0m\u001b[1;33m[\u001b[0m\u001b[1;34m'specialty'\u001b[0m\u001b[1;33m]\u001b[0m\u001b[1;33m.\u001b[0m\u001b[0miloc\u001b[0m\u001b[1;33m[\u001b[0m\u001b[1;36m0\u001b[0m\u001b[1;33m]\u001b[0m\u001b[1;33m]\u001b[0m \u001b[1;33m=\u001b[0m \u001b[0mmerged\u001b[0m\u001b[1;33m[\u001b[0m\u001b[0mmerged\u001b[0m\u001b[1;33m.\u001b[0m\u001b[0mphysician_id\u001b[0m\u001b[1;33m==\u001b[0m\u001b[0mi\u001b[0m\u001b[1;33m]\u001b[0m\u001b[1;33m[\u001b[0m\u001b[1;34m'procedure_code'\u001b[0m\u001b[1;33m]\u001b[0m\u001b[1;33m.\u001b[0m\u001b[0munique\u001b[0m\u001b[1;33m(\u001b[0m\u001b[1;33m)\u001b[0m\u001b[1;33m\u001b[0m\u001b[0m\n",
      "\u001b[1;31mValueError\u001b[0m: dictionary update sequence element #0 has length 1; 2 is required"
     ]
    }
   ],
   "source": [
    "d2={}\n",
    "for i in top_50.index.values:\n",
    "    if i not in d2.keys():\n",
    "        d2[str(i)]=dict(merged[merged.physician_id==i]['specialty'].iloc[0])\n",
    "        d2[str(i)][merged[merged.physician_id==i]['specialty'].iloc[0]] = merged[merged.physician_id==i]['procedure_code'].unique()"
   ]
  },
  {
   "cell_type": "code",
   "execution_count": null,
   "metadata": {},
   "outputs": [],
   "source": []
  }
 ],
 "metadata": {
  "kernelspec": {
   "display_name": "Python 3",
   "language": "python",
   "name": "python3"
  },
  "language_info": {
   "codemirror_mode": {
    "name": "ipython",
    "version": 3
   },
   "file_extension": ".py",
   "mimetype": "text/x-python",
   "name": "python",
   "nbconvert_exporter": "python",
   "pygments_lexer": "ipython3",
   "version": "3.6.1"
  }
 },
 "nbformat": 4,
 "nbformat_minor": 2
}
